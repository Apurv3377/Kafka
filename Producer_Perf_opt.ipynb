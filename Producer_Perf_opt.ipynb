{
 "cells": [
  {
   "cell_type": "code",
   "execution_count": 14,
   "metadata": {},
   "outputs": [
    {
     "name": "stdout",
     "output_type": "stream",
     "text": [
      "Populating the interactive namespace from numpy and matplotlib\n"
     ]
    }
   ],
   "source": [
    "import confluent_kafka\n",
    "import time\n",
    "from pykafka import KafkaClient\n",
    "import pandas as pd\n",
    "import seaborn as sns\n",
    "%pylab inline"
   ]
  },
  {
   "cell_type": "code",
   "execution_count": 15,
   "metadata": {},
   "outputs": [
    {
     "name": "stdout",
     "output_type": "stream",
     "text": [
      "b'kafkatestkafkatestkafkatestkafkatestkafkatestkafkatestkafkatestkafkatestkafkatestkafkatestkafkatestk'\n",
      "100\n"
     ]
    }
   ],
   "source": [
    "msg_count = 1000\n",
    "msg_size = 100\n",
    "iteration=60\n",
    "msg_payload = ('kafkatest' * 20).encode()[:msg_size]\n",
    "print(msg_payload)\n",
    "print(len(msg_payload))\n",
    "topic = 'confluent-kafka-topic'\n",
    "bootstrap_servers = 'localhost:9092'\n",
    "\n",
    "producer_timings = {}\n",
    "producer_messages={}"
   ]
  },
  {
   "cell_type": "code",
   "execution_count": 16,
   "metadata": {},
   "outputs": [],
   "source": [
    "def confluent_kafka_producer_performance(msg_count):\n",
    "    \n",
    "    topic = 'confluent-kafka-topic'\n",
    "    conf = {'bootstrap.servers': bootstrap_servers}\n",
    "    producer = confluent_kafka.Producer(**conf)\n",
    "    messages_to_retry = 0\n",
    "\n",
    "    producer_start = time.time()\n",
    "    for i in range(msg_count):\n",
    "        try:\n",
    "            producer.produce(topic, value=msg_payload)\n",
    "            #producer.poll(0)\n",
    "        except BufferError as e:\n",
    "            producer.flush()\n",
    "            messages_to_retry += 1\n",
    "\n",
    "    #retry messages that over filled the local buffer\n",
    "    for i in range(messages_to_retry):\n",
    "        producer.poll(0)\n",
    "        try:\n",
    "            producer.produce(topic, value=msg_payload)\n",
    "        except BufferError as e:\n",
    "            producer.poll(0)\n",
    "            producer.produce(topic, value=msg_payload)\n",
    "\n",
    "    producer.flush()\n",
    "            \n",
    "    return time.time() - producer_start\n",
    "\n",
    "\n",
    "def calculate_thoughput(timing, n_messages=msg_count, msg_size=100):\n",
    "    print(\"Processed {0} messsages in {1:.2f} seconds\".format(n_messages, timing))\n",
    "    print(\"{0:.2f} MB/s\".format((msg_size * n_messages) / timing / (1024*1024)))\n",
    "    print(\"{0:.2f} Msgs/s\".format(n_messages / timing))\n"
   ]
  },
  {
   "cell_type": "code",
   "execution_count": 17,
   "metadata": {},
   "outputs": [],
   "source": [
    "for i in range(iteration):\n",
    "    time_t=confluent_kafka_producer_performance(msg_count)\n",
    "    producer_timings[msg_count] = time_t\n",
    "    producer_messages[msg_count]=msg_count/time_t\n",
    "    #calculate_thoughput(producer_timings[msg_count])\n",
    "    msg_count=msg_count + 1000"
   ]
  },
  {
   "cell_type": "code",
   "execution_count": 18,
   "metadata": {},
   "outputs": [
    {
     "data": {
      "text/plain": [
       "'\\nprint(msg_count)\\nfor item in producer_timings:\\n    print (item)\\n    print(producer_timings[item])\\n    '"
      ]
     },
     "execution_count": 18,
     "metadata": {},
     "output_type": "execute_result"
    }
   ],
   "source": [
    "'''\n",
    "print(msg_count)\n",
    "for item in producer_timings:\n",
    "    print (item)\n",
    "    print(producer_timings[item])\n",
    "    '''"
   ]
  },
  {
   "cell_type": "code",
   "execution_count": 19,
   "metadata": {},
   "outputs": [
    {
     "name": "stdout",
     "output_type": "stream",
     "text": [
      "After Taking avergae number of messages written per second :: 190659.3472030853\n"
     ]
    }
   ],
   "source": [
    "\n",
    "#print(msg_count)\n",
    "total_num_mes=0\n",
    "for item in producer_messages:\n",
    "    total_num_mes=producer_messages[item] + total_num_mes\n",
    "avg=total_num_mes/iteration    \n",
    "print(\"After Taking avergae number of messages written per second ::\",avg)\n"
   ]
  },
  {
   "cell_type": "code",
   "execution_count": 20,
   "metadata": {},
   "outputs": [
    {
     "name": "stdout",
     "output_type": "stream",
     "text": [
      "(29000,58622)\n",
      "(32000,79512)\n",
      "(37000,176536)\n",
      "(18000,590543)\n",
      "(34000,254794)\n",
      "(57000,91323)\n",
      "(26000,73156)\n",
      "(23000,63913)\n",
      "(5000,353252)\n",
      "(15000,185014)\n",
      "(60000,97837)\n",
      "(58000,105461)\n",
      "(10000,530655)\n",
      "(52000,143655)\n",
      "(20000,280173)\n",
      "(30000,98294)\n",
      "(44000,140015)\n",
      "(59000,92187)\n",
      "(25000,237910)\n",
      "(47000,103511)\n",
      "(36000,87149)\n",
      "(14000,571698)\n",
      "(21000,112724)\n",
      "(12000,530069)\n",
      "(31000,71654)\n",
      "(41000,80432)\n",
      "(35000,65393)\n",
      "(49000,84755)\n",
      "(55000,143621)\n",
      "(33000,74274)\n",
      "(22000,272024)\n",
      "(8000,480261)\n",
      "(4000,518023)\n",
      "(46000,69023)\n",
      "(13000,553338)\n",
      "(17000,100316)\n",
      "(51000,85304)\n",
      "(2000,308348)\n",
      "(11000,350910)\n",
      "(50000,150317)\n",
      "(43000,70264)\n",
      "(39000,67649)\n",
      "(56000,58469)\n",
      "(28000,136393)\n",
      "(42000,93392)\n",
      "(48000,81455)\n",
      "(54000,108569)\n",
      "(19000,285020)\n",
      "(1000,59491)\n",
      "(6000,353845)\n",
      "(53000,166042)\n",
      "(38000,54278)\n",
      "(9000,475024)\n",
      "(40000,53599)\n",
      "(3000,159750)\n",
      "(24000,57281)\n",
      "(7000,362077)\n",
      "(27000,110777)\n",
      "(16000,135280)\n",
      "(45000,84882)\n"
     ]
    }
   ],
   "source": [
    "jr=1\n",
    "for i in producer_messages:\n",
    "    print('(',i,',',int(producer_messages[i]),')',sep='')\n",
    "    jr=jr+1"
   ]
  },
  {
   "cell_type": "code",
   "execution_count": 21,
   "metadata": {
    "scrolled": false
   },
   "outputs": [
    {
     "data": {
      "text/plain": [
       "array([<matplotlib.axes._subplots.AxesSubplot object at 0x7f9eac6ebb00>],\n",
       "      dtype=object)"
      ]
     },
     "execution_count": 21,
     "metadata": {},
     "output_type": "execute_result"
    },
    {
     "data": {
      "image/png": "[encoded data removed]",
      "text/plain": [
       "<Figure size 720x720 with 1 Axes>"
      ]
     },
     "metadata": {
      "needs_background": "light"
     },
     "output_type": "display_data"
    },
    {
     "data": {
      "image/png": "[encoded data removed]",
      "text/plain": [
       "<Figure size 720x720 with 1 Axes>"
      ]
     },
     "metadata": {
      "needs_background": "light"
     },
     "output_type": "display_data"
    }
   ],
   "source": [
    "producer_df = pd.DataFrame.from_dict(producer_timings, orient='index').rename(columns={0: 'time_in_seconds'})\n",
    "producer_df1 = pd.DataFrame.from_dict(producer_messages, orient='index').rename(columns={0: 'messages_per_seconds'})\n",
    "\n",
    "producer_df1.sort_index(inplace=True)\n",
    "producer_df1\n",
    "producer_df1.plot(kind='bar', subplots=True, figsize=(10, 10), title=\"Number of Messages per second\")\n",
    "\n",
    "producer_df.sort_index(inplace=True)\n",
    "producer_df\n",
    "producer_df.plot(kind='bar', subplots=True, figsize=(10, 10), title=\"Producer Comparison\")\n"
   ]
  },
  {
   "cell_type": "code",
   "execution_count": null,
   "metadata": {},
   "outputs": [],
   "source": []
  },
  {
   "cell_type": "code",
   "execution_count": null,
   "metadata": {},
   "outputs": [],
   "source": []
  }
 ],
 "metadata": {
  "kernelspec": {
   "display_name": "Python 3",
   "language": "python",
   "name": "python3"
  },
  "language_info": {
   "codemirror_mode": {
    "name": "ipython",
    "version": 3
   },
   "file_extension": ".py",
   "mimetype": "text/x-python",
   "name": "python",
   "nbconvert_exporter": "python",
   "pygments_lexer": "ipython3",
   "version": "3.5.3"
  }
 },
 "nbformat": 4,
 "nbformat_minor": 2
}
