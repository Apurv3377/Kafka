{
 "cells": [
  {
   "cell_type": "code",
   "execution_count": 56,
   "metadata": {},
   "outputs": [],
   "source": [
    "import confluent_kafka\n",
    "import time\n",
    "import uuid\n",
    "import pandas as pd\n",
    "import seaborn as sns\n",
    "from datetime import timezone, datetime\n",
    "#%pylab inline"
   ]
  },
  {
   "cell_type": "code",
   "execution_count": 57,
   "metadata": {},
   "outputs": [
    {
     "name": "stdout",
     "output_type": "stream",
     "text": [
      "b'kafkatestkafkatestkafkatestkafkatestkafkatestkafkatestkafkatestkafkatestkafkatestkafkatestkafkatestk'\n",
      "100\n"
     ]
    }
   ],
   "source": [
    "msg_count = 32000\n",
    "msg_size = 100\n",
    "msg_payload = ('kafkatest' * 20).encode()[:msg_size]\n",
    "print(msg_payload)\n",
    "print(len(msg_payload))\n"
   ]
  },
  {
   "cell_type": "code",
   "execution_count": 58,
   "metadata": {},
   "outputs": [],
   "source": [
    "bootstrap_servers = 'localhost:9092' \n",
    "consumer_timings = {}"
   ]
  },
  {
   "cell_type": "code",
   "execution_count": 59,
   "metadata": {},
   "outputs": [],
   "source": [
    "def calculate_thoughput(timing, n_messages=1000000, msg_size=100):\n",
    "    print(\"Processed {0} messsages in {1:.2f} seconds\".format(n_messages, timing))\n",
    "    print(\"{0:.2f} MB/s\".format((msg_size * n_messages) / timing / (1024*1024)))\n",
    "    print(\"{0:.2f} Msgs/s\".format(n_messages / timing))"
   ]
  },
  {
   "cell_type": "code",
   "execution_count": 60,
   "metadata": {},
   "outputs": [],
   "source": [
    "def confluent_kafka_consumer_performance():\n",
    "    \n",
    "    topic = 'confluent-kafka-topic'\n",
    "    msg_consumed_count = 0\n",
    "    conf = {'bootstrap.servers': bootstrap_servers,\n",
    "            'group.id': uuid.uuid1(),\n",
    "            'session.timeout.ms': 6000,\n",
    "            'default.topic.config': {\n",
    "                'auto.offset.reset': 'earliest'\n",
    "            }\n",
    "    }\n",
    "\n",
    "    consumer = confluent_kafka.Consumer(**conf)\n",
    "\n",
    "    #consumer_start = time.time()\n",
    "    # This is the same as pykafka, subscribing to a topic will start a background thread\n",
    "    consumer.subscribe([topic])\n",
    "\n",
    "    while True:\n",
    "        msg = consumer.poll(1)\n",
    "        if msg:\n",
    "            msg_consumed_count += 1\n",
    "                         \n",
    "        if msg_consumed_count >= msg_count:\n",
    "            break\n",
    "                    \n",
    "    #consumer_timing = time.time() - consumer_start\n",
    "    consumer.close()    \n",
    "    #return consumer_timing\n"
   ]
  },
  {
   "cell_type": "code",
   "execution_count": 61,
   "metadata": {},
   "outputs": [
    {
     "name": "stdout",
     "output_type": "stream",
     "text": [
      "Read 11936000  in  64.268099 s\n",
      "average read per second is : 198933.33333333334\n"
     ]
    }
   ],
   "source": [
    "total_docs=0\n",
    "j=0\n",
    "itr=0\n",
    "MAX_ITR=60\n",
    "startf = datetime.now();\n",
    "read_readings={}\n",
    "\n",
    "while itr<MAX_ITR: \n",
    "    start = datetime.now();\n",
    "    for index in range(100000000000):\n",
    "        try:\n",
    "            #_ = confluent_kafka_consumer_performance() # Warm cache\n",
    "            confluent_kafka_consumer_performance()\n",
    "            \n",
    "            timec=int((datetime.now() - start).total_seconds())\n",
    "\n",
    "            if timec==1:\n",
    "                j=j+1\n",
    "                itr=itr+1\n",
    "                read_readings[j]=index*msg_count\n",
    "                total_docs=total_docs + index*msg_count\n",
    "                break\n",
    "        except:\n",
    "            print ('Unexpected error:', sys.exc_info()[0], ', for index ', index)\n",
    "            raise\n",
    "#consumer.close()            \n",
    "print ('Read',total_docs, ' in ', (datetime.now() - startf).total_seconds(), 's')\n",
    "print ('average read per second is :',total_docs/MAX_ITR)\n",
    "    "
   ]
  },
  {
   "cell_type": "code",
   "execution_count": 62,
   "metadata": {},
   "outputs": [
    {
     "name": "stdout",
     "output_type": "stream",
     "text": [
      "(1,352000)\n",
      "(2,160000)\n",
      "(3,160000)\n",
      "(4,160000)\n",
      "(5,192000)\n",
      "(6,352000)\n",
      "(7,160000)\n",
      "(8,192000)\n",
      "(9,192000)\n",
      "(10,352000)\n",
      "(11,224000)\n",
      "(12,160000)\n",
      "(13,160000)\n",
      "(14,192000)\n",
      "(15,320000)\n",
      "(16,192000)\n",
      "(17,224000)\n",
      "(18,160000)\n",
      "(19,160000)\n",
      "(20,352000)\n",
      "(21,128000)\n",
      "(22,192000)\n",
      "(23,160000)\n",
      "(24,224000)\n",
      "(25,256000)\n",
      "(26,192000)\n",
      "(27,160000)\n",
      "(28,192000)\n",
      "(29,224000)\n",
      "(30,224000)\n",
      "(31,224000)\n",
      "(32,160000)\n",
      "(33,160000)\n",
      "(34,160000)\n",
      "(35,128000)\n",
      "(36,160000)\n",
      "(37,192000)\n",
      "(38,160000)\n",
      "(39,224000)\n",
      "(40,160000)\n",
      "(41,160000)\n",
      "(42,192000)\n",
      "(43,192000)\n",
      "(44,224000)\n",
      "(45,192000)\n",
      "(46,192000)\n",
      "(47,160000)\n",
      "(48,256000)\n",
      "(49,160000)\n",
      "(50,160000)\n",
      "(51,192000)\n",
      "(52,160000)\n",
      "(53,192000)\n",
      "(54,192000)\n",
      "(55,192000)\n",
      "(56,192000)\n",
      "(57,192000)\n",
      "(58,224000)\n",
      "(59,224000)\n",
      "(60,192000)\n"
     ]
    }
   ],
   "source": [
    "for i in read_readings:\n",
    "    print('(',i,',',read_readings[i],')',sep='')"
   ]
  },
  {
   "cell_type": "code",
   "execution_count": 63,
   "metadata": {},
   "outputs": [
    {
     "data": {
      "text/plain": [
       "array([<matplotlib.axes._subplots.AxesSubplot object at 0x7fa1ae819550>],\n",
       "      dtype=object)"
      ]
     },
     "execution_count": 63,
     "metadata": {},
     "output_type": "execute_result"
    },
    {
     "data": {
      "image/png": "[encoded data removed]",
      "text/plain": [
       "<Figure size 720x720 with 1 Axes>"
      ]
     },
     "metadata": {
      "needs_background": "light"
     },
     "output_type": "display_data"
    }
   ],
   "source": [
    "consumer_df = pd.DataFrame.from_dict(read_readings, orient='index').rename(columns={0: 'time_in_seconds'})\n",
    "consumer_df.sort_index(inplace=True)\n",
    "consumer_df\n",
    "\n",
    "consumer_df.plot(kind='bar', subplots=True, figsize=(10, 10), title=\"Consumer Fixed Batch\")"
   ]
  },
  {
   "cell_type": "code",
   "execution_count": null,
   "metadata": {},
   "outputs": [],
   "source": []
  }
 ],
 "metadata": {
  "kernelspec": {
   "display_name": "Python 3",
   "language": "python",
   "name": "python3"
  },
  "language_info": {
   "codemirror_mode": {
    "name": "ipython",
    "version": 3
   },
   "file_extension": ".py",
   "mimetype": "text/x-python",
   "name": "python",
   "nbconvert_exporter": "python",
   "pygments_lexer": "ipython3",
   "version": "3.5.3"
  }
 },
 "nbformat": 4,
 "nbformat_minor": 2
}
