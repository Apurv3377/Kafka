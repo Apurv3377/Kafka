{
 "cells": [
  {
   "cell_type": "code",
   "execution_count": 8,
   "metadata": {},
   "outputs": [],
   "source": [
    "import confluent_kafka\n",
    "import time\n",
    "import uuid\n",
    "import pandas as pd\n",
    "import seaborn as sns\n",
    "from datetime import timezone, datetime\n",
    "#%pylab inline"
   ]
  },
  {
   "cell_type": "code",
   "execution_count": 9,
   "metadata": {},
   "outputs": [],
   "source": [
    "read_readings = {}\n",
    "bootstrap_servers = 'localhost:9092'"
   ]
  },
  {
   "cell_type": "code",
   "execution_count": 10,
   "metadata": {},
   "outputs": [
    {
     "name": "stdout",
     "output_type": "stream",
     "text": [
      "Read 4961  in  10.029857 s\n",
      "average read per second is : 496.1\n"
     ]
    }
   ],
   "source": [
    "total_docs=0\n",
    "j=0\n",
    "itr=0\n",
    "MAX_ITR=10\n",
    "startf = datetime.now();\n",
    "\n",
    "while itr<MAX_ITR: \n",
    "    start = datetime.now();\n",
    "    for index in range(100000000000):\n",
    "        \n",
    "        try:\n",
    "            #confluent_kafka_consumer_performance()\n",
    "            #print(\"%d documents found\" % res['hits']['total'])\n",
    "            topic = 'confluent-kafka-topic'\n",
    "            conf = {'bootstrap.servers': bootstrap_servers,\n",
    "                    'group.id': uuid.uuid1(),\n",
    "                    'session.timeout.ms': 6000,\n",
    "                    'default.topic.config': {\n",
    "                    'auto.offset.reset': 'earliest'\n",
    "                    }\n",
    "                   }\n",
    "            consumer = confluent_kafka.Consumer(**conf)\n",
    "            consumer.subscribe([topic])    \n",
    "\n",
    "            timec=int((datetime.now() - start).total_seconds())\n",
    "\n",
    "            if timec==1:\n",
    "                j=j+1\n",
    "                itr=itr+1\n",
    "                read_readings[j]=index\n",
    "                total_docs=total_docs + index\n",
    "                break\n",
    "                   \n",
    "        except:\n",
    "            print ('Unexpected error:', sys.exc_info()[0], ', for index ', index)\n",
    "            raise\n",
    "consumer.close()            \n",
    "print ('Read',total_docs, ' in ', (datetime.now() - startf).total_seconds(), 's')\n",
    "print ('average read per second is :',total_docs/MAX_ITR)"
   ]
  },
  {
   "cell_type": "code",
   "execution_count": 11,
   "metadata": {},
   "outputs": [
    {
     "data": {
      "text/plain": [
       "array([<matplotlib.axes._subplots.AxesSubplot object at 0x7f3aec9efe10>],\n",
       "      dtype=object)"
      ]
     },
     "execution_count": 11,
     "metadata": {},
     "output_type": "execute_result"
    },
    {
     "data": {
      "image/png": "[encoded data removed]",
      "text/plain": [
       "<Figure size 720x720 with 1 Axes>"
      ]
     },
     "metadata": {
      "needs_background": "light"
     },
     "output_type": "display_data"
    }
   ],
   "source": [
    "consumer_df = pd.DataFrame.from_dict(read_readings, orient='index').rename(columns={0: 'read_per_second'})\n",
    "\n",
    "consumer_df.sort_index(inplace=True)\n",
    "consumer_df\n",
    "consumer_df.plot(kind='bar', subplots=True, figsize=(10, 10), title=\"Consumer Comparison\")\n"
   ]
  },
  {
   "cell_type": "code",
   "execution_count": null,
   "metadata": {},
   "outputs": [],
   "source": []
  }
 ],
 "metadata": {
  "kernelspec": {
   "display_name": "Python 3",
   "language": "python",
   "name": "python3"
  },
  "language_info": {
   "codemirror_mode": {
    "name": "ipython",
    "version": 3
   },
   "file_extension": ".py",
   "mimetype": "text/x-python",
   "name": "python",
   "nbconvert_exporter": "python",
   "pygments_lexer": "ipython3",
   "version": "3.5.3"
  }
 },
 "nbformat": 4,
 "nbformat_minor": 2
}
