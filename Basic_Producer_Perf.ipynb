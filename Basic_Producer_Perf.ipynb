{
 "cells": [
  {
   "cell_type": "code",
   "execution_count": 27,
   "metadata": {},
   "outputs": [],
   "source": [
    "import confluent_kafka\n",
    "import time\n",
    "from pykafka import KafkaClient\n",
    "import pandas as pd\n",
    "import seaborn as sns\n",
    "#%pylab inline\n",
    "from datetime import timezone, datetime"
   ]
  },
  {
   "cell_type": "code",
   "execution_count": 28,
   "metadata": {},
   "outputs": [
    {
     "name": "stdout",
     "output_type": "stream",
     "text": [
      "b'kafkatestkafkatestkafkatestkafkatestkafkatestkafkatestkafkatestkafkatestkafkatestkafkatestkafkatestk'\n",
      "100\n"
     ]
    }
   ],
   "source": [
    "write_readings={}\n",
    " \n",
    "documents_number = 20000 * 200000\n",
    "j=0\n",
    "itr=0\n",
    "MAX_ITR=60\n",
    "total_docs=0\n",
    "msg_size=100\n",
    "\n",
    "msg_payload = ('kafkatest' * 20).encode()[:msg_size]\n",
    "print(msg_payload)\n",
    "print(len(msg_payload))\n",
    "topic = 'confluent-kafka-topic'\n",
    "bootstrap_servers = 'localhost:9092'\n",
    "\n",
    "producer_timings = {}\n",
    "producer_messages={}\n",
    "topic = 'confluent-kafka-topic'\n",
    "conf = {'bootstrap.servers': bootstrap_servers}\n",
    "producer = confluent_kafka.Producer(**conf)"
   ]
  },
  {
   "cell_type": "code",
   "execution_count": 29,
   "metadata": {},
   "outputs": [
    {
     "name": "stdout",
     "output_type": "stream",
     "text": [
      "inserted  3039693  in  62.052508 s\n",
      "average inserts per second is : 50661.55\n"
     ]
    }
   ],
   "source": [
    "startf = datetime.now();\n",
    "while itr<MAX_ITR: \n",
    "    start = datetime.now();\n",
    "    messages_to_retry=0\n",
    "    for index in range(documents_number):\n",
    "        try:\n",
    "            producer.produce(topic, value=msg_payload)\n",
    "            #calculate the time for the insert\n",
    "            timec=int((datetime.now() - start).total_seconds())\n",
    "\n",
    "            if timec==1:\n",
    "                #print (timec, 'secs for',index)\n",
    "                write_readings[j]=index\n",
    "                j=j+1\n",
    "                #f.write(\"%d,%d\\n\" %(j, index))\n",
    "                itr=itr+1\n",
    "                total_docs=total_docs + index\n",
    "                break\n",
    "        except BufferError as e:\n",
    "            producer.flush()\n",
    "            messages_to_retry += 1\n",
    "            #print(messages_to_retry)\n",
    "    #retry messages that over filled the local buffer\n",
    "    #print(messages_to_retry)\n",
    "    for i in range(messages_to_retry):\n",
    "        producer.poll(0)\n",
    "        try:\n",
    "            producer.produce(topic, value=msg_payload)\n",
    "        except BufferError as e:\n",
    "            producer.poll(0)\n",
    "            producer.produce(topic, value=msg_payload)\n",
    "\n",
    "producer.flush()\n",
    "print ('inserted ',total_docs, ' in ', (datetime.now() - startf).total_seconds(), 's')\n",
    "print ('average inserts per second is :',total_docs/MAX_ITR)\n"
   ]
  },
  {
   "cell_type": "code",
   "execution_count": 30,
   "metadata": {
    "scrolled": false
   },
   "outputs": [
    {
     "data": {
      "text/plain": [
       "array([<matplotlib.axes._subplots.AxesSubplot object at 0x7f63c45011d0>],\n",
       "      dtype=object)"
      ]
     },
     "execution_count": 30,
     "metadata": {},
     "output_type": "execute_result"
    },
    {
     "data": {
      "image/png": "[encoded data removed]",
      "text/plain": [
       "<Figure size 720x720 with 1 Axes>"
      ]
     },
     "metadata": {
      "needs_background": "light"
     },
     "output_type": "display_data"
    }
   ],
   "source": [
    "\n",
    "producer_df1 = pd.DataFrame.from_dict(write_readings, orient='index').rename(columns={0: 'write_per_second'})\n",
    "\n",
    "producer_df1.sort_index(inplace=True)\n",
    "producer_df1\n",
    "producer_df1.plot(kind='bar', subplots=True, figsize=(10, 10), title=\"Number of Messages per second\")"
   ]
  },
  {
   "cell_type": "code",
   "execution_count": null,
   "metadata": {},
   "outputs": [],
   "source": []
  },
  {
   "cell_type": "code",
   "execution_count": null,
   "metadata": {},
   "outputs": [],
   "source": []
  }
 ],
 "metadata": {
  "kernelspec": {
   "display_name": "Python 3",
   "language": "python",
   "name": "python3"
  },
  "language_info": {
   "codemirror_mode": {
    "name": "ipython",
    "version": 3
   },
   "file_extension": ".py",
   "mimetype": "text/x-python",
   "name": "python",
   "nbconvert_exporter": "python",
   "pygments_lexer": "ipython3",
   "version": "3.5.3"
  }
 },
 "nbformat": 4,
 "nbformat_minor": 2
}
